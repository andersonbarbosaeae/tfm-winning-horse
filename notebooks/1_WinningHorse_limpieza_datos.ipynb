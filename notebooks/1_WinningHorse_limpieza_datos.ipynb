{
 "cells": [
  {
   "cell_type": "markdown",
   "source": [
    "# WINNING HORSE - Limpieza de datos"
   ],
   "metadata": {
    "collapsed": false
   }
  },
  {
   "cell_type": "markdown",
   "source": [
    "## Importación de librerías"
   ],
   "metadata": {
    "collapsed": false
   }
  },
  {
   "cell_type": "code",
   "execution_count": 2,
   "metadata": {
    "collapsed": true
   },
   "outputs": [],
   "source": [
    "import pandas as pd\n",
    "import numpy as np\n",
    "from datetime import date, datetime, time"
   ]
  },
  {
   "cell_type": "markdown",
   "source": [
    "## Datasets"
   ],
   "metadata": {
    "collapsed": false
   }
  },
  {
   "cell_type": "code",
   "execution_count": 3,
   "outputs": [],
   "source": [
    "df2022 = pd.read_csv(\"./../data/Results_Global_2020_winnersTop_nuevo.csv\")\n",
    "df2021 = pd.read_csv(\"./../data/Results_Global_2021_winnersTop_nuevo.csv\")\n",
    "df2020 = pd.read_csv(\"./../data/Results_Global_2022_winnersTop_nuevo.csv\")\n",
    "dfResults = pd.concat([df2020, df2021, df2022], ignore_index=True)"
   ],
   "metadata": {
    "collapsed": false
   }
  },
  {
   "cell_type": "markdown",
   "source": [
    "## Limpieza de datos - Primera parte\n",
    "Se limpian las columnas que no se van a utilizar en el análisis"
   ],
   "metadata": {
    "collapsed": false
   }
  },
  {
   "cell_type": "code",
   "execution_count": 4,
   "outputs": [
    {
     "name": "stdout",
     "output_type": "stream",
     "text": [
      "<class 'pandas.core.frame.DataFrame'>\n",
      "RangeIndex: 208326 entries, 0 to 208325\n",
      "Data columns (total 23 columns):\n",
      " #   Column                Non-Null Count   Dtype  \n",
      "---  ------                --------------   -----  \n",
      " 0   REGION                208326 non-null  object \n",
      " 1   TRACKHANDEDNESS       208326 non-null  object \n",
      " 2   RACEDATE              208326 non-null  object \n",
      " 3   RACETIME              208326 non-null  object \n",
      " 4   DISTANCE              208326 non-null  int64  \n",
      " 5   TIER                  204038 non-null  object \n",
      " 6   MAJOREVENT            14996 non-null   float64\n",
      " 7   GROUND                192512 non-null  float64\n",
      " 8   GOINGSTICK            115968 non-null  float64\n",
      " 9   WEATHER               43429 non-null   object \n",
      " 10  DIVISIONSEQUENCE      208326 non-null  int64  \n",
      " 11  NAME                  208326 non-null  object \n",
      " 12  DATEOFBIRTH           208326 non-null  object \n",
      " 13  CLOTHNUMBER           208326 non-null  int64  \n",
      " 14  WEIGHTVALUE           208326 non-null  int64  \n",
      " 15  BETTINGRATIO          208326 non-null  object \n",
      " 16  RACECRITERIARACETYPE  208326 non-null  object \n",
      " 17  ENTRYNAME             208326 non-null  object \n",
      " 18  CHAMPIONSHIPTYPE      208326 non-null  object \n",
      " 19  FULLNAME              208326 non-null  object \n",
      " 20  TOP1                  208326 non-null  int64  \n",
      " 21  TOP3                  208326 non-null  int64  \n",
      " 22  TOP5                  208326 non-null  int64  \n",
      "dtypes: float64(3), int64(7), object(13)\n",
      "memory usage: 36.6+ MB\n",
      "None\n"
     ]
    }
   ],
   "source": [
    "dropColumns = [\n",
    "    \"STATUS\",\n",
    "    \"AGELIMIT\",\n",
    "    \"SEXTYPE\",\n",
    "    \"LATITUDE\",\n",
    "    \"LONGITUDE\",\n",
    "    \"YEAR\",\n",
    "    \"COUNTY\",\n",
    "    \"GROUNDTEXT\",\n",
    "    \"LEADINGEARNERHORSE\",\n",
    "    \"ENTRYTYPE\",\n",
    "    \"PRIZEAMOUNT\",\n",
    "    \"POSITIONFINISHTIME\",\n",
    "    \"RESULTFINISHPOS\",\n",
    "    \"TOTALOWNERPRIZEMONEYWON\",\n",
    "    \"ownername\",\n",
    "    \"TRAINERSTYLE\",\n",
    "    \"LICENCETYPE\",\n",
    "    \"LOCATION\",\n",
    "    \"AGEYEAR\"\n",
    "]\n",
    "dfResults.drop(dropColumns, axis=1, inplace=True)\n",
    "print(dfResults.info())"
   ],
   "metadata": {
    "collapsed": false
   }
  },
  {
   "cell_type": "markdown",
   "source": [
    "## Características del dataset"
   ],
   "metadata": {
    "collapsed": false
   }
  },
  {
   "cell_type": "markdown",
   "source": [
    "Reemplazar los ratios de divisiones por 0 y evaluamos para convertirlos en numéricos y eliminamos la columna de literales"
   ],
   "metadata": {
    "collapsed": false
   }
  },
  {
   "cell_type": "code",
   "execution_count": 5,
   "outputs": [],
   "source": [
    "dfResults[\"EVAL_BETTINGRATIO\"] = dfResults[\"BETTINGRATIO\"].replace({\"0/0\":\"0/1\"}).apply(eval)"
   ],
   "metadata": {
    "collapsed": false
   }
  },
  {
   "cell_type": "markdown",
   "source": [
    "Cambiar las fechas a formato datetime para poder operar con ellas, y combinación de date y time en una sola variable"
   ],
   "metadata": {
    "collapsed": false
   }
  },
  {
   "cell_type": "code",
   "execution_count": 6,
   "outputs": [],
   "source": [
    "dfResults[\"DATEOFBIRTH\"] = pd.to_datetime(dfResults[\"DATEOFBIRTH\"])\n",
    "dfResults[\"RACEDATE\"] = pd.to_datetime(dfResults[\"RACEDATE\"] + ' ' + dfResults[\"RACETIME\"])"
   ],
   "metadata": {
    "collapsed": false
   }
  },
  {
   "cell_type": "markdown",
   "source": [
    "Creación del dato EdadYears que refleja la edad exacta en años del caballo el día de la carrera"
   ],
   "metadata": {
    "collapsed": false
   }
  },
  {
   "cell_type": "code",
   "execution_count": 7,
   "outputs": [],
   "source": [
    "edades = dfResults[\"RACEDATE\"] - dfResults[\"DATEOFBIRTH\"]\n",
    "dfResults[\"EdadYears\"] = edades / np.timedelta64(1, 'Y')"
   ],
   "metadata": {
    "collapsed": false
   }
  },
  {
   "cell_type": "markdown",
   "source": [
    "Obtenemos las estaciones del año por carrera, nos permite generalizar más que el día y el mes, por si un caballo tiene mejor rendimiento en estaciones cálidas o frías"
   ],
   "metadata": {
    "collapsed": false
   }
  },
  {
   "cell_type": "code",
   "execution_count": 8,
   "outputs": [],
   "source": [
    "anio = 2000;\n",
    "datesSeasons = [\n",
    "    (\"Winter\", (date(anio, 1, 1), date(anio, 3, 19))),\n",
    "    (\"Spring\", (date(anio, 3, 20), date(anio, 6, 20))),\n",
    "    (\"Summer\", (date(anio, 6, 21), date(anio, 9, 22))),\n",
    "    (\"Fall\", (date(anio, 9, 23), date(anio, 12, 21))),\n",
    "    (\"Winter\", (date(anio, 12, 22), date(anio, 12, 31))),\n",
    "]\n",
    "def get_season(now):\n",
    "    now = now.date()\n",
    "    now = now.replace(year=anio)\n",
    "    return next(a for a, (start, end) in datesSeasons if start <= now <= end)\n",
    "\n",
    "dfResults[\"SEASONS\"] = dfResults[\"RACEDATE\"].apply(lambda x: get_season(x))"
   ],
   "metadata": {
    "collapsed": false
   }
  },
  {
   "cell_type": "markdown",
   "source": [
    "Obtenemos el rango de horas según la hora de salida (mañana, mediodia, tarde y noche)"
   ],
   "metadata": {
    "collapsed": false
   }
  },
  {
   "cell_type": "code",
   "execution_count": 9,
   "outputs": [],
   "source": [
    "def horario(hora):\n",
    "    if hora.time() >= time(7) and hora.time() < time(11):\n",
    "        return \"Morning\"\n",
    "    elif hora.time() >= time(11) and hora.time() < time(15):\n",
    "        return \"Midday\"\n",
    "    if hora.time() >= time(15) and hora.time() < time(19):\n",
    "        return \"Afternoon\"\n",
    "    else:\n",
    "        return \"Night\"\n",
    "\n",
    "dfResults[\"HORARIO\"] = dfResults[\"RACEDATE\"].apply(lambda x: horario(x))"
   ],
   "metadata": {
    "collapsed": false
   }
  },
  {
   "cell_type": "markdown",
   "source": [
    "Sustituir valores nulos de Major event y de Ground\n",
    "- ***MAJOR EVENT*** : Los eventos con valor nulo se catalogan con valor 0 (no importantes)\n",
    "- ***GROUND*** : La condición de terreno con valor nulo se cataloga con la media de los valores conocidos\n",
    "- ***GOING STICK*** : La condición de agarre del terreno con valor nulo se cataloga con la media de los valores conocidos"
   ],
   "metadata": {
    "collapsed": false
   }
  },
  {
   "cell_type": "code",
   "execution_count": 10,
   "outputs": [],
   "source": [
    "# Rellenamos los valores de MajorEvent = NaN con valor 0\n",
    "dfResults[\"MAJOREVENT\"].fillna(0, inplace=True)\n",
    "\n",
    "#Rellenar los valores de Ground = NaN con la media de la columna\n",
    "dfResults[\"GROUND\"].fillna(dfResults[\"GROUND\"].mean(), inplace=True)\n",
    "\n",
    "#Rellenar los valores de GoingStick = NaN con la media de la columna\n",
    "dfResults[\"GOINGSTICK\"].fillna(dfResults[\"GOINGSTICK\"].mean(), inplace=True)"
   ],
   "metadata": {
    "collapsed": false
   }
  },
  {
   "cell_type": "markdown",
   "source": [
    "### Manga de caballos\n",
    "Creamos un identificador único para las mangas, con el fin de sacar el mínimo betting ratio por manga y así calcular los favoritos\n",
    "*(Funciones de larga duración)*"
   ],
   "metadata": {
    "collapsed": false
   }
  },
  {
   "cell_type": "code",
   "execution_count": 11,
   "outputs": [],
   "source": [
    "#Por cada fecha, buscamos las horas y por cada hora, buscamos la manga y por cada manga añadimos un identificador para identificar la manga\n",
    "id_manga = 0\n",
    "fechas = dfResults[\"RACEDATE\"].unique()\n",
    "for fecha in fechas:\n",
    "    mangas = dfResults[dfResults[\"RACEDATE\"] == fecha][\"DIVISIONSEQUENCE\"].unique()\n",
    "    for manga in mangas:\n",
    "        dfResults.loc[(dfResults[\"RACEDATE\"] == fecha) & (dfResults[\"DIVISIONSEQUENCE\"] == manga), \"IDMANGA\"] = id_manga\n",
    "        id_manga += 1\n",
    "\n",
    "#Creamos una columna con el valor mínimo del bettingRatio por cada manga y el mejor tiempo\n",
    "for manga in dfResults[\"IDMANGA\"]:\n",
    "    dfResults.loc[dfResults[\"IDMANGA\"] == manga, \"MIN_BETTINGRATIO\"] = dfResults[dfResults[\"IDMANGA\"] == manga][\"EVAL_BETTINGRATIO\"].min()\n",
    "\n",
    "#Asignamos la columna de favorito a True de la carrera si el BettingRatio es igual al mínimo\n",
    "dfResults[\"FAVORITE\"] = dfResults[\"EVAL_BETTINGRATIO\"] ==  dfResults[\"MIN_BETTINGRATIO\"]"
   ],
   "metadata": {
    "collapsed": false
   }
  },
  {
   "cell_type": "markdown",
   "source": [
    "### WEATER\n",
    "Comprobamos la variable WEATHER sobre el número de nulos, por si aporta suficiente valor. Dado que el número de nulos es muy elevado, se decide eliminar la columna en vez de completar los nulos."
   ],
   "metadata": {
    "collapsed": false
   }
  },
  {
   "cell_type": "code",
   "execution_count": 12,
   "outputs": [
    {
     "name": "stdout",
     "output_type": "stream",
     "text": [
      "Porcentaje de nulos de la columna WEATHER:  79.15334619778616 %\n"
     ]
    }
   ],
   "source": [
    "# obtener el porcentaje de nulos de la columna Weather\n",
    "print(\"Porcentaje de nulos de la columna WEATHER: \", dfResults[\"WEATHER\"].isnull().sum() / len(dfResults[\"WEATHER\"]) * 100, \"%\")"
   ],
   "metadata": {
    "collapsed": false
   }
  },
  {
   "cell_type": "markdown",
   "source": [
    "## Limpieza de datos - Segunda parte"
   ],
   "metadata": {
    "collapsed": false
   }
  },
  {
   "cell_type": "code",
   "execution_count": 13,
   "outputs": [
    {
     "name": "stdout",
     "output_type": "stream",
     "text": [
      "<class 'pandas.core.frame.DataFrame'>\n",
      "RangeIndex: 208326 entries, 0 to 208325\n",
      "Data columns (total 21 columns):\n",
      " #   Column                Non-Null Count   Dtype  \n",
      "---  ------                --------------   -----  \n",
      " 0   REGION                208326 non-null  object \n",
      " 1   TRACKHANDEDNESS       208326 non-null  object \n",
      " 2   DISTANCE              208326 non-null  int64  \n",
      " 3   TIER                  204038 non-null  object \n",
      " 4   MAJOREVENT            208326 non-null  float64\n",
      " 5   GROUND                208326 non-null  float64\n",
      " 6   GOINGSTICK            208326 non-null  float64\n",
      " 7   NAME                  208326 non-null  object \n",
      " 8   CLOTHNUMBER           208326 non-null  int64  \n",
      " 9   WEIGHTVALUE           208326 non-null  int64  \n",
      " 10  RACECRITERIARACETYPE  208326 non-null  object \n",
      " 11  ENTRYNAME             208326 non-null  object \n",
      " 12  CHAMPIONSHIPTYPE      208326 non-null  object \n",
      " 13  FULLNAME              208326 non-null  object \n",
      " 14  TOP1                  208326 non-null  int64  \n",
      " 15  TOP3                  208326 non-null  int64  \n",
      " 16  TOP5                  208326 non-null  int64  \n",
      " 17  EdadYears             208326 non-null  float64\n",
      " 18  SEASONS               208326 non-null  object \n",
      " 19  HORARIO               208326 non-null  object \n",
      " 20  FAVORITE              208326 non-null  bool   \n",
      "dtypes: bool(1), float64(4), int64(6), object(10)\n",
      "memory usage: 32.0+ MB\n",
      "None\n"
     ]
    }
   ],
   "source": [
    "dropColumns = [\n",
    "    # Eliminamos las columnas que no necesitamos tras el cálculo de la nueva manga\n",
    "    \"EVAL_BETTINGRATIO\",\n",
    "    \"MIN_BETTINGRATIO\",\n",
    "    \"RACEDATE\",\n",
    "    \"IDMANGA\",\n",
    "    \"DIVISIONSEQUENCE\",\n",
    "\n",
    "    # Dado que el número de nulos es muy elevado, se decide eliminar la columna en vez de completar los nulos\n",
    "    \"WEATHER\",\n",
    "\n",
    "    # Eliminamos las columnas que no nos aportan información\n",
    "    \"BETTINGRATIO\",\n",
    "    \"RACETIME\",\n",
    "    \"DATEOFBIRTH\",\n",
    "]\n",
    "dfResults.drop(dropColumns, axis=1, inplace=True)\n",
    "print(dfResults.info())"
   ],
   "metadata": {
    "collapsed": false
   }
  },
  {
   "cell_type": "markdown",
   "source": [
    "### Dummies\n",
    "Generamos Campos Dummies para las variables categóricas"
   ],
   "metadata": {
    "collapsed": false
   }
  },
  {
   "cell_type": "code",
   "execution_count": 22,
   "outputs": [
    {
     "data": {
      "text/plain": "       Region  Distance Category  MajorEvent  GroundCondition     Stick  \\\n0       SOUTH      2646     -100         1.0         8.192897  6.898805   \n1       SOUTH      2646     -100         1.0         8.192897  6.898805   \n2       SOUTH      2646     -100         1.0         8.192897  6.898805   \n3       SOUTH      2646     -100         1.0         8.192897  6.898805   \n4       SOUTH      2646     -100         1.0         8.192897  6.898805   \n...       ...       ...      ...         ...              ...       ...   \n208321  NORTH      1100     -100         0.0         6.000000  5.300000   \n208322  NORTH      1100     -100         0.0         6.000000  5.300000   \n208323  NORTH      1312     -100         0.0         7.000000  4.800000   \n208324  NORTH      1312     -100         0.0         7.000000  4.800000   \n208325  NORTH      1312     -100         0.0         7.000000  4.800000   \n\n                   HorseName  StartingStall  Weight         JockeyName  ...  \\\n0         Sonny Liston (IRE)             12     128       Tom Marquand  ...   \n1       Grand Alliance (IRE)              5     128     Daniel Tudhope  ...   \n2          Desert Crown (GB)              2     128  Richard Kingscote  ...   \n3            Hoo Ya Mal (GB)              6     128      David Probert  ...   \n4       Grand Alliance (IRE)              5     128     Daniel Tudhope  ...   \n...                      ...            ...     ...                ...  ...   \n208321      Iris Dancer (GB)              7     122      Lewis Edmunds  ...   \n208322       Go Go Luna (GB)             11     112         Paula Muir  ...   \n208323       Sharrabang (GB)              3     130     Faye McManoman  ...   \n208324   Lili Wen Fach (IRE)             10     125       Hollie Doyle  ...   \n208325  Trevie Fountain (GB)              3     129     James Sullivan  ...   \n\n       EdadYears FAVORITE  TrackHandedness_Left-Handed  \\\n0       3.344867    False                            1   \n1       3.180592    False                            1   \n2       3.259992     True                            1   \n3       3.136786    False                            1   \n4       3.180592    False                            1   \n...          ...      ...                          ...   \n208321  2.676475    False                            1   \n208322  2.676475    False                            1   \n208323  4.453643    False                            1   \n208324  3.695243    False                            1   \n208325  3.500851    False                            1   \n\n        TrackHandedness_Right-Handed  RaceCriteria_JUMP  Seasons_Spring  \\\n0                                  0                  0               1   \n1                                  0                  0               1   \n2                                  0                  0               1   \n3                                  0                  0               1   \n4                                  0                  0               1   \n...                              ...                ...             ...   \n208321                             0                  0               0   \n208322                             0                  0               0   \n208323                             0                  0               0   \n208324                             0                  0               0   \n208325                             0                  0               0   \n\n        Seasons_Summer  Seasons_Winter  Schedule_Midday  Schedule_Night  \n0                    0               0                0               0  \n1                    0               0                0               0  \n2                    0               0                0               0  \n3                    0               0                0               0  \n4                    0               0                0               0  \n...                ...             ...              ...             ...  \n208321               0               0                1               0  \n208322               0               0                1               0  \n208323               0               0                0               0  \n208324               0               0                0               0  \n208325               0               0                0               0  \n\n[208326 rows x 25 columns]",
      "text/html": "<div>\n<style scoped>\n    .dataframe tbody tr th:only-of-type {\n        vertical-align: middle;\n    }\n\n    .dataframe tbody tr th {\n        vertical-align: top;\n    }\n\n    .dataframe thead th {\n        text-align: right;\n    }\n</style>\n<table border=\"1\" class=\"dataframe\">\n  <thead>\n    <tr style=\"text-align: right;\">\n      <th></th>\n      <th>Region</th>\n      <th>Distance</th>\n      <th>Category</th>\n      <th>MajorEvent</th>\n      <th>GroundCondition</th>\n      <th>Stick</th>\n      <th>HorseName</th>\n      <th>StartingStall</th>\n      <th>Weight</th>\n      <th>JockeyName</th>\n      <th>...</th>\n      <th>EdadYears</th>\n      <th>FAVORITE</th>\n      <th>TrackHandedness_Left-Handed</th>\n      <th>TrackHandedness_Right-Handed</th>\n      <th>RaceCriteria_JUMP</th>\n      <th>Seasons_Spring</th>\n      <th>Seasons_Summer</th>\n      <th>Seasons_Winter</th>\n      <th>Schedule_Midday</th>\n      <th>Schedule_Night</th>\n    </tr>\n  </thead>\n  <tbody>\n    <tr>\n      <th>0</th>\n      <td>SOUTH</td>\n      <td>2646</td>\n      <td>-100</td>\n      <td>1.0</td>\n      <td>8.192897</td>\n      <td>6.898805</td>\n      <td>Sonny Liston (IRE)</td>\n      <td>12</td>\n      <td>128</td>\n      <td>Tom Marquand</td>\n      <td>...</td>\n      <td>3.344867</td>\n      <td>False</td>\n      <td>1</td>\n      <td>0</td>\n      <td>0</td>\n      <td>1</td>\n      <td>0</td>\n      <td>0</td>\n      <td>0</td>\n      <td>0</td>\n    </tr>\n    <tr>\n      <th>1</th>\n      <td>SOUTH</td>\n      <td>2646</td>\n      <td>-100</td>\n      <td>1.0</td>\n      <td>8.192897</td>\n      <td>6.898805</td>\n      <td>Grand Alliance (IRE)</td>\n      <td>5</td>\n      <td>128</td>\n      <td>Daniel Tudhope</td>\n      <td>...</td>\n      <td>3.180592</td>\n      <td>False</td>\n      <td>1</td>\n      <td>0</td>\n      <td>0</td>\n      <td>1</td>\n      <td>0</td>\n      <td>0</td>\n      <td>0</td>\n      <td>0</td>\n    </tr>\n    <tr>\n      <th>2</th>\n      <td>SOUTH</td>\n      <td>2646</td>\n      <td>-100</td>\n      <td>1.0</td>\n      <td>8.192897</td>\n      <td>6.898805</td>\n      <td>Desert Crown (GB)</td>\n      <td>2</td>\n      <td>128</td>\n      <td>Richard Kingscote</td>\n      <td>...</td>\n      <td>3.259992</td>\n      <td>True</td>\n      <td>1</td>\n      <td>0</td>\n      <td>0</td>\n      <td>1</td>\n      <td>0</td>\n      <td>0</td>\n      <td>0</td>\n      <td>0</td>\n    </tr>\n    <tr>\n      <th>3</th>\n      <td>SOUTH</td>\n      <td>2646</td>\n      <td>-100</td>\n      <td>1.0</td>\n      <td>8.192897</td>\n      <td>6.898805</td>\n      <td>Hoo Ya Mal (GB)</td>\n      <td>6</td>\n      <td>128</td>\n      <td>David Probert</td>\n      <td>...</td>\n      <td>3.136786</td>\n      <td>False</td>\n      <td>1</td>\n      <td>0</td>\n      <td>0</td>\n      <td>1</td>\n      <td>0</td>\n      <td>0</td>\n      <td>0</td>\n      <td>0</td>\n    </tr>\n    <tr>\n      <th>4</th>\n      <td>SOUTH</td>\n      <td>2646</td>\n      <td>-100</td>\n      <td>1.0</td>\n      <td>8.192897</td>\n      <td>6.898805</td>\n      <td>Grand Alliance (IRE)</td>\n      <td>5</td>\n      <td>128</td>\n      <td>Daniel Tudhope</td>\n      <td>...</td>\n      <td>3.180592</td>\n      <td>False</td>\n      <td>1</td>\n      <td>0</td>\n      <td>0</td>\n      <td>1</td>\n      <td>0</td>\n      <td>0</td>\n      <td>0</td>\n      <td>0</td>\n    </tr>\n    <tr>\n      <th>...</th>\n      <td>...</td>\n      <td>...</td>\n      <td>...</td>\n      <td>...</td>\n      <td>...</td>\n      <td>...</td>\n      <td>...</td>\n      <td>...</td>\n      <td>...</td>\n      <td>...</td>\n      <td>...</td>\n      <td>...</td>\n      <td>...</td>\n      <td>...</td>\n      <td>...</td>\n      <td>...</td>\n      <td>...</td>\n      <td>...</td>\n      <td>...</td>\n      <td>...</td>\n      <td>...</td>\n    </tr>\n    <tr>\n      <th>208321</th>\n      <td>NORTH</td>\n      <td>1100</td>\n      <td>-100</td>\n      <td>0.0</td>\n      <td>6.000000</td>\n      <td>5.300000</td>\n      <td>Iris Dancer (GB)</td>\n      <td>7</td>\n      <td>122</td>\n      <td>Lewis Edmunds</td>\n      <td>...</td>\n      <td>2.676475</td>\n      <td>False</td>\n      <td>1</td>\n      <td>0</td>\n      <td>0</td>\n      <td>0</td>\n      <td>0</td>\n      <td>0</td>\n      <td>1</td>\n      <td>0</td>\n    </tr>\n    <tr>\n      <th>208322</th>\n      <td>NORTH</td>\n      <td>1100</td>\n      <td>-100</td>\n      <td>0.0</td>\n      <td>6.000000</td>\n      <td>5.300000</td>\n      <td>Go Go Luna (GB)</td>\n      <td>11</td>\n      <td>112</td>\n      <td>Paula Muir</td>\n      <td>...</td>\n      <td>2.676475</td>\n      <td>False</td>\n      <td>1</td>\n      <td>0</td>\n      <td>0</td>\n      <td>0</td>\n      <td>0</td>\n      <td>0</td>\n      <td>1</td>\n      <td>0</td>\n    </tr>\n    <tr>\n      <th>208323</th>\n      <td>NORTH</td>\n      <td>1312</td>\n      <td>-100</td>\n      <td>0.0</td>\n      <td>7.000000</td>\n      <td>4.800000</td>\n      <td>Sharrabang (GB)</td>\n      <td>3</td>\n      <td>130</td>\n      <td>Faye McManoman</td>\n      <td>...</td>\n      <td>4.453643</td>\n      <td>False</td>\n      <td>1</td>\n      <td>0</td>\n      <td>0</td>\n      <td>0</td>\n      <td>0</td>\n      <td>0</td>\n      <td>0</td>\n      <td>0</td>\n    </tr>\n    <tr>\n      <th>208324</th>\n      <td>NORTH</td>\n      <td>1312</td>\n      <td>-100</td>\n      <td>0.0</td>\n      <td>7.000000</td>\n      <td>4.800000</td>\n      <td>Lili Wen Fach (IRE)</td>\n      <td>10</td>\n      <td>125</td>\n      <td>Hollie Doyle</td>\n      <td>...</td>\n      <td>3.695243</td>\n      <td>False</td>\n      <td>1</td>\n      <td>0</td>\n      <td>0</td>\n      <td>0</td>\n      <td>0</td>\n      <td>0</td>\n      <td>0</td>\n      <td>0</td>\n    </tr>\n    <tr>\n      <th>208325</th>\n      <td>NORTH</td>\n      <td>1312</td>\n      <td>-100</td>\n      <td>0.0</td>\n      <td>7.000000</td>\n      <td>4.800000</td>\n      <td>Trevie Fountain (GB)</td>\n      <td>3</td>\n      <td>129</td>\n      <td>James Sullivan</td>\n      <td>...</td>\n      <td>3.500851</td>\n      <td>False</td>\n      <td>1</td>\n      <td>0</td>\n      <td>0</td>\n      <td>0</td>\n      <td>0</td>\n      <td>0</td>\n      <td>0</td>\n      <td>0</td>\n    </tr>\n  </tbody>\n</table>\n<p>208326 rows × 25 columns</p>\n</div>"
     },
     "execution_count": 22,
     "metadata": {},
     "output_type": "execute_result"
    }
   ],
   "source": [
    "dummiesColumns = [\"TRACKHANDEDNESS\", \"RACECRITERIARACETYPE\", \"SEASONS\", \"HORARIO\"]\n",
    "dummiesColumnsNames = [\"TrackHandedness\", \"RaceCriteria\", \"Seasons\", \"Schedule\"]\n",
    "dummies = pd.get_dummies(dfResults[dummiesColumns], dummiesColumnsNames, drop_first=True)\n",
    "dfResults = pd.concat([dfResults, dummies], axis=1)\n",
    "dfResults.drop(dummiesColumns, axis=1, inplace=True)\n",
    "dfResults"
   ],
   "metadata": {
    "collapsed": false
   }
  },
  {
   "cell_type": "markdown",
   "source": [
    "Comprobamos que los valores objetivo solo tienen dos valores 1 o 0"
   ],
   "metadata": {
    "collapsed": false
   }
  },
  {
   "cell_type": "code",
   "execution_count": 23,
   "outputs": [
    {
     "data": {
      "text/plain": "0    183818\n1     24508\nName: TOP1, dtype: int64"
     },
     "execution_count": 23,
     "metadata": {},
     "output_type": "execute_result"
    }
   ],
   "source": [
    "dfResults[\"TOP1\"].value_counts()"
   ],
   "metadata": {
    "collapsed": false
   }
  },
  {
   "cell_type": "code",
   "execution_count": 18,
   "outputs": [
    {
     "data": {
      "text/plain": "0    126763\n1     81563\nName: TOP3, dtype: int64"
     },
     "execution_count": 18,
     "metadata": {},
     "output_type": "execute_result"
    }
   ],
   "source": [
    "dfResults[\"TOP3\"].value_counts()"
   ],
   "metadata": {
    "collapsed": false
   }
  },
  {
   "cell_type": "code",
   "execution_count": 19,
   "outputs": [
    {
     "data": {
      "text/plain": "1    125871\n0     82455\nName: TOP5, dtype: int64"
     },
     "execution_count": 19,
     "metadata": {},
     "output_type": "execute_result"
    }
   ],
   "source": [
    "dfResults[\"TOP5\"].value_counts()"
   ],
   "metadata": {
    "collapsed": false
   }
  },
  {
   "cell_type": "markdown",
   "source": [
    "Renombramos las columnas para un mejor entendimiento"
   ],
   "metadata": {
    "collapsed": false
   }
  },
  {
   "cell_type": "code",
   "execution_count": 24,
   "outputs": [
    {
     "name": "stdout",
     "output_type": "stream",
     "text": [
      "<class 'pandas.core.frame.DataFrame'>\n",
      "RangeIndex: 208326 entries, 0 to 208325\n",
      "Data columns (total 25 columns):\n",
      " #   Column                        Non-Null Count   Dtype  \n",
      "---  ------                        --------------   -----  \n",
      " 0   Region                        208326 non-null  object \n",
      " 1   Distance                      208326 non-null  int64  \n",
      " 2   Category                      204038 non-null  object \n",
      " 3   MajorEvent                    208326 non-null  float64\n",
      " 4   GroundCondition               208326 non-null  float64\n",
      " 5   Stick                         208326 non-null  float64\n",
      " 6   HorseName                     208326 non-null  object \n",
      " 7   StartingStall                 208326 non-null  int64  \n",
      " 8   Weight                        208326 non-null  int64  \n",
      " 9   JockeyName                    208326 non-null  object \n",
      " 10  ChampionshipType              208326 non-null  object \n",
      " 11  OwnerName                     208326 non-null  object \n",
      " 12  TOP1                          208326 non-null  int64  \n",
      " 13  TOP3                          208326 non-null  int64  \n",
      " 14  TOP5                          208326 non-null  int64  \n",
      " 15  EdadYears                     208326 non-null  float64\n",
      " 16  FAVORITE                      208326 non-null  bool   \n",
      " 17  TrackHandedness_Left-Handed   208326 non-null  uint8  \n",
      " 18  TrackHandedness_Right-Handed  208326 non-null  uint8  \n",
      " 19  RaceCriteria_JUMP             208326 non-null  uint8  \n",
      " 20  Seasons_Spring                208326 non-null  uint8  \n",
      " 21  Seasons_Summer                208326 non-null  uint8  \n",
      " 22  Seasons_Winter                208326 non-null  uint8  \n",
      " 23  Schedule_Midday               208326 non-null  uint8  \n",
      " 24  Schedule_Night                208326 non-null  uint8  \n",
      "dtypes: bool(1), float64(4), int64(6), object(6), uint8(8)\n",
      "memory usage: 27.2+ MB\n"
     ]
    }
   ],
   "source": [
    "dfResults.rename(columns={'REGION': 'Region',\n",
    "                   'DISTANCE': 'Distance',\n",
    "                   'TIER': 'Category',\n",
    "                   'MAJOREVENT': 'MajorEvent',\n",
    "                   'GROUND': 'GroundCondition',\n",
    "                   'GOINGSTICK': 'Stick',\n",
    "                   'NAME': 'HorseName',\n",
    "                   'CLOTHNUMBER': 'StartingStall',\n",
    "                   'WEIGHTVALUE': 'Weight',\n",
    "                   'ENTRYNAME': 'JockeyName',\n",
    "                   'CHAMPIONSHIPTYPE': 'ChampionshipType',\n",
    "                   'FULLNAME': 'OwnerName'}, inplace=True)\n",
    "dfResults.info()"
   ],
   "metadata": {
    "collapsed": false
   }
  },
  {
   "cell_type": "markdown",
   "source": [
    "## Guardar el dataset"
   ],
   "metadata": {
    "collapsed": false
   }
  },
  {
   "cell_type": "code",
   "execution_count": 25,
   "outputs": [],
   "source": [
    "pd.DataFrame.to_csv(dfResults, \"../data/winning_horse_limpieza.csv\", index=False)"
   ],
   "metadata": {
    "collapsed": false
   }
  },
  {
   "cell_type": "markdown",
   "source": [],
   "metadata": {
    "collapsed": false
   }
  }
 ],
 "metadata": {
  "kernelspec": {
   "display_name": "Python 3",
   "language": "python",
   "name": "python3"
  },
  "language_info": {
   "codemirror_mode": {
    "name": "ipython",
    "version": 2
   },
   "file_extension": ".py",
   "mimetype": "text/x-python",
   "name": "python",
   "nbconvert_exporter": "python",
   "pygments_lexer": "ipython2",
   "version": "2.7.6"
  }
 },
 "nbformat": 4,
 "nbformat_minor": 0
}
