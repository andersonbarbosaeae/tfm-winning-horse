{
 "cells": [
  {
   "cell_type": "markdown",
   "source": [
    "# WINNING HORSE - Limpieza de datos"
   ],
   "metadata": {
    "collapsed": false
   }
  },
  {
   "cell_type": "markdown",
   "source": [
    "## Importación de librerías"
   ],
   "metadata": {
    "collapsed": false
   }
  },
  {
   "cell_type": "code",
   "execution_count": 1,
   "metadata": {
    "collapsed": true
   },
   "outputs": [],
   "source": [
    "import pandas as pd\n",
    "import numpy as np\n",
    "from datetime import date, datetime, time"
   ]
  },
  {
   "cell_type": "markdown",
   "source": [
    "## Datasets"
   ],
   "metadata": {
    "collapsed": false
   }
  },
  {
   "cell_type": "code",
   "execution_count": 2,
   "outputs": [],
   "source": [
    "df2022 = pd.read_csv(\"./../data/Results_Global_2020_winnersTop_nuevo.csv\")\n",
    "df2021 = pd.read_csv(\"./../data/Results_Global_2021_winnersTop_nuevo.csv\")\n",
    "df2020 = pd.read_csv(\"./../data/Results_Global_2022_winnersTop_nuevo.csv\")\n",
    "dfResults = pd.concat([df2020, df2021, df2022], ignore_index=True)"
   ],
   "metadata": {
    "collapsed": false
   }
  },
  {
   "cell_type": "markdown",
   "source": [
    "## Limpieza de datos - Primera parte\n",
    "**Opción A**: Eliminar caballos que no corrieron\n",
    "\n",
    "**Opción B**: Limitar las muestras a carreras de un rango de edad concreto\n",
    "\n",
    "**Opción C**: Limitar las muestras por sexo\n",
    "\n",
    "**Opción D**: Limitar las muestras a carreras de eventos principales\n",
    "\n",
    "**Opción E**: Limitar las muestras a carreras con información de evento principal"
   ],
   "metadata": {
    "collapsed": false
   }
  },
  {
   "cell_type": "code",
   "execution_count": 3,
   "outputs": [],
   "source": [
    "#df.drop(df[df[\"STATUS\"] != \"Runner\"].index, axis=0, inplace=True)\n",
    "#df.drop(df[df[\"AGELIMIT\"] != \"4YO+\"].index, axis=0, inplace=True)\n",
    "#df.drop(df[df[\"SEXTYPE\"] != \"GELDING\"].index, axis=0, inplace=True)\n",
    "#df.drop(df[df[\"MAJOREVENT\"] != 1].index, axis=0, inplace=True)\n",
    "dfResults.dropna(subset=[\"MAJOREVENT\"], inplace=True)\n"
   ],
   "metadata": {
    "collapsed": false
   }
  },
  {
   "cell_type": "markdown",
   "source": [
    "Se limpian las columnas que no se van a utilizar en el análisis"
   ],
   "metadata": {
    "collapsed": false
   }
  },
  {
   "cell_type": "code",
   "execution_count": 4,
   "outputs": [
    {
     "name": "stdout",
     "output_type": "stream",
     "text": [
      "<class 'pandas.core.frame.DataFrame'>\n",
      "Int64Index: 14996 entries, 0 to 64932\n",
      "Data columns (total 23 columns):\n",
      " #   Column                Non-Null Count  Dtype  \n",
      "---  ------                --------------  -----  \n",
      " 0   REGION                14996 non-null  object \n",
      " 1   TRACKHANDEDNESS       14996 non-null  object \n",
      " 2   RACEDATE              14996 non-null  object \n",
      " 3   RACETIME              14996 non-null  object \n",
      " 4   DISTANCE              14996 non-null  int64  \n",
      " 5   TIER                  14996 non-null  object \n",
      " 6   MAJOREVENT            14996 non-null  float64\n",
      " 7   GROUND                13883 non-null  float64\n",
      " 8   GOINGSTICK            11102 non-null  float64\n",
      " 9   WEATHER               2752 non-null   object \n",
      " 10  DIVISIONSEQUENCE      14996 non-null  int64  \n",
      " 11  NAME                  14996 non-null  object \n",
      " 12  DATEOFBIRTH           14996 non-null  object \n",
      " 13  CLOTHNUMBER           14996 non-null  int64  \n",
      " 14  WEIGHTVALUE           14996 non-null  int64  \n",
      " 15  BETTINGRATIO          14996 non-null  object \n",
      " 16  RACECRITERIARACETYPE  14996 non-null  object \n",
      " 17  ENTRYNAME             14996 non-null  object \n",
      " 18  CHAMPIONSHIPTYPE      14996 non-null  object \n",
      " 19  FULLNAME              14996 non-null  object \n",
      " 20  TOP1                  14996 non-null  int64  \n",
      " 21  TOP3                  14996 non-null  int64  \n",
      " 22  TOP5                  14996 non-null  int64  \n",
      "dtypes: float64(3), int64(7), object(13)\n",
      "memory usage: 2.7+ MB\n",
      "None\n"
     ]
    }
   ],
   "source": [
    "dropColumns = [\n",
    "    \"STATUS\",\n",
    "    \"AGELIMIT\",\n",
    "    \"SEXTYPE\",\n",
    "    \"LATITUDE\",\n",
    "    \"LONGITUDE\",\n",
    "    \"YEAR\",\n",
    "    \"COUNTY\",\n",
    "    \"GROUNDTEXT\",\n",
    "    \"LEADINGEARNERHORSE\",\n",
    "    \"ENTRYTYPE\",\n",
    "    \"PRIZEAMOUNT\",\n",
    "    \"POSITIONFINISHTIME\",\n",
    "    \"RESULTFINISHPOS\",\n",
    "    \"TOTALOWNERPRIZEMONEYWON\",\n",
    "    \"ownername\",\n",
    "    \"TRAINERSTYLE\",\n",
    "    \"LICENCETYPE\",\n",
    "    \"LOCATION\",\n",
    "    \"AGEYEAR\"\n",
    "]\n",
    "dfResults.drop(dropColumns, axis=1, inplace=True)\n",
    "print(dfResults.info())"
   ],
   "metadata": {
    "collapsed": false
   }
  },
  {
   "cell_type": "markdown",
   "source": [
    "## Características del dataset"
   ],
   "metadata": {
    "collapsed": false
   }
  },
  {
   "cell_type": "markdown",
   "source": [
    "Reemplazar los ratios de divisiones por 0 y evaluamos para convertirlos en numéricos y eliminamos la columna de literales"
   ],
   "metadata": {
    "collapsed": false
   }
  },
  {
   "cell_type": "code",
   "execution_count": 5,
   "outputs": [],
   "source": [
    "dfResults[\"EVAL_BETTINGRATIO\"] = dfResults[\"BETTINGRATIO\"].replace({\"0/0\":\"0/1\"}).apply(eval)"
   ],
   "metadata": {
    "collapsed": false
   }
  },
  {
   "cell_type": "markdown",
   "source": [
    "Cambiar las fechas a formato datetime para poder operar con ellas, y combinación de date y time en una sola variable"
   ],
   "metadata": {
    "collapsed": false
   }
  },
  {
   "cell_type": "code",
   "execution_count": 6,
   "outputs": [],
   "source": [
    "dfResults[\"DATEOFBIRTH\"] = pd.to_datetime(dfResults[\"DATEOFBIRTH\"])\n",
    "dfResults[\"RACEDATE\"] = pd.to_datetime(dfResults[\"RACEDATE\"] + ' ' + dfResults[\"RACETIME\"])"
   ],
   "metadata": {
    "collapsed": false
   }
  },
  {
   "cell_type": "markdown",
   "source": [
    "Creación del dato EdadYears que refleja la edad exacta en años del caballo el día de la carrera"
   ],
   "metadata": {
    "collapsed": false
   }
  },
  {
   "cell_type": "code",
   "execution_count": 7,
   "outputs": [],
   "source": [
    "edades = dfResults[\"RACEDATE\"] - dfResults[\"DATEOFBIRTH\"]\n",
    "dfResults[\"EdadYears\"] = edades / np.timedelta64(1, 'Y')"
   ],
   "metadata": {
    "collapsed": false
   }
  },
  {
   "cell_type": "markdown",
   "source": [
    "Obtenemos las estaciones del año por carrera, nos permite generalizar más que el día y el mes, por si un caballo tiene mejor rendimiento en estaciones cálidas o frías"
   ],
   "metadata": {
    "collapsed": false
   }
  },
  {
   "cell_type": "code",
   "execution_count": 8,
   "outputs": [],
   "source": [
    "anio = 2000;\n",
    "datesSeasons = [\n",
    "    (\"Winter\", (date(anio, 1, 1), date(anio, 3, 19))),\n",
    "    (\"Spring\", (date(anio, 3, 20), date(anio, 6, 20))),\n",
    "    (\"Summer\", (date(anio, 6, 21), date(anio, 9, 22))),\n",
    "    (\"Fall\", (date(anio, 9, 23), date(anio, 12, 21))),\n",
    "    (\"Winter\", (date(anio, 12, 22), date(anio, 12, 31))),\n",
    "]\n",
    "def get_season(now):\n",
    "    now = now.date()\n",
    "    now = now.replace(year=anio)\n",
    "    return next(a for a, (start, end) in datesSeasons if start <= now <= end)\n",
    "\n",
    "dfResults[\"SEASONS\"] = dfResults[\"RACEDATE\"].apply(lambda x: get_season(x))"
   ],
   "metadata": {
    "collapsed": false
   }
  },
  {
   "cell_type": "markdown",
   "source": [
    "Obtenemos el rango de horas según la hora de salida (mañana, mediodia, tarde y noche)"
   ],
   "metadata": {
    "collapsed": false
   }
  },
  {
   "cell_type": "code",
   "execution_count": 9,
   "outputs": [],
   "source": [
    "def horario(hora):\n",
    "    if hora.time() >= time(7) and hora.time() < time(11):\n",
    "        return \"Morning\"\n",
    "    elif hora.time() >= time(11) and hora.time() < time(15):\n",
    "        return \"Midday\"\n",
    "    if hora.time() >= time(15) and hora.time() < time(19):\n",
    "        return \"Afternoon\"\n",
    "    else:\n",
    "        return \"Night\"\n",
    "\n",
    "dfResults[\"HORARIO\"] = dfResults[\"RACEDATE\"].apply(lambda x: horario(x))"
   ],
   "metadata": {
    "collapsed": false
   }
  },
  {
   "cell_type": "markdown",
   "source": [
    "Sustituir valores nulos de Major event y de Ground\n",
    "- ***MAJOR EVENT*** : Los eventos con valor nulo se catalogan con valor 0 (no importantes)\n",
    "- ***GROUND*** : La condición de terreno con valor nulo se cataloga con la media de los valores conocidos\n",
    "- ***GOING STICK*** : La condición de agarre del terreno con valor nulo se cataloga con la media de los valores conocidos"
   ],
   "metadata": {
    "collapsed": false
   }
  },
  {
   "cell_type": "code",
   "execution_count": 10,
   "outputs": [],
   "source": [
    "# Rellenamos los valores de MajorEvent = NaN con valor 0\n",
    "dfResults[\"MAJOREVENT\"].fillna(0, inplace=True)\n",
    "\n",
    "#Rellenar los valores de Ground = NaN con la media de la columna\n",
    "dfResults[\"GROUND\"].fillna(dfResults[\"GROUND\"].mean(), inplace=True)\n",
    "\n",
    "#Rellenar los valores de GoingStick = NaN con la media de la columna\n",
    "dfResults[\"GOINGSTICK\"].fillna(dfResults[\"GOINGSTICK\"].mean(), inplace=True)"
   ],
   "metadata": {
    "collapsed": false
   }
  },
  {
   "cell_type": "markdown",
   "source": [
    "### Manga de caballos\n",
    "Creamos un identificador único para las mangas, con el fin de sacar el mínimo betting ratio por manga y así calcular los favoritos\n",
    "*(Funciones de larga duración)*"
   ],
   "metadata": {
    "collapsed": false
   }
  },
  {
   "cell_type": "code",
   "execution_count": 11,
   "outputs": [],
   "source": [
    "#Por cada fecha, buscamos las horas y por cada hora, buscamos la manga y por cada manga añadimos un identificador para identificar la manga\n",
    "id_manga = 0\n",
    "fechas = dfResults[\"RACEDATE\"].unique()\n",
    "for fecha in fechas:\n",
    "    mangas = dfResults[dfResults[\"RACEDATE\"] == fecha][\"DIVISIONSEQUENCE\"].unique()\n",
    "    for manga in mangas:\n",
    "        dfResults.loc[(dfResults[\"RACEDATE\"] == fecha) & (dfResults[\"DIVISIONSEQUENCE\"] == manga), \"IDMANGA\"] = id_manga\n",
    "        id_manga += 1\n",
    "\n",
    "#Creamos una columna con el valor mínimo del bettingRatio por cada manga y el mejor tiempo\n",
    "for manga in dfResults[\"IDMANGA\"]:\n",
    "    dfResults.loc[dfResults[\"IDMANGA\"] == manga, \"MIN_BETTINGRATIO\"] = dfResults[dfResults[\"IDMANGA\"] == manga][\"EVAL_BETTINGRATIO\"].min()\n",
    "\n",
    "#Asignamos la columna de favorito a True de la carrera si el BettingRatio es igual al mínimo\n",
    "dfResults[\"FAVORITE\"] = dfResults[\"EVAL_BETTINGRATIO\"] ==  dfResults[\"MIN_BETTINGRATIO\"]"
   ],
   "metadata": {
    "collapsed": false
   }
  },
  {
   "cell_type": "markdown",
   "source": [
    "### WEATER\n",
    "Comprobamos la variable WEATHER sobre el número de nulos, por si aporta suficiente valor. Dado que el número de nulos es muy elevado, se decide eliminar la columna en vez de completar los nulos."
   ],
   "metadata": {
    "collapsed": false
   }
  },
  {
   "cell_type": "code",
   "execution_count": 12,
   "outputs": [
    {
     "name": "stdout",
     "output_type": "stream",
     "text": [
      "Porcentaje de nulos de la columna WEATHER:  81.64843958388903 %\n"
     ]
    }
   ],
   "source": [
    "# obtener el porcentaje de nulos de la columna Weather\n",
    "print(\"Porcentaje de nulos de la columna WEATHER: \", dfResults[\"WEATHER\"].isnull().sum() / len(dfResults[\"WEATHER\"]) * 100, \"%\")"
   ],
   "metadata": {
    "collapsed": false
   }
  },
  {
   "cell_type": "markdown",
   "source": [
    "## Limpieza de datos - Segunda parte"
   ],
   "metadata": {
    "collapsed": false
   }
  },
  {
   "cell_type": "code",
   "execution_count": 13,
   "outputs": [
    {
     "name": "stdout",
     "output_type": "stream",
     "text": [
      "<class 'pandas.core.frame.DataFrame'>\n",
      "Int64Index: 14996 entries, 0 to 64932\n",
      "Data columns (total 21 columns):\n",
      " #   Column                Non-Null Count  Dtype  \n",
      "---  ------                --------------  -----  \n",
      " 0   REGION                14996 non-null  object \n",
      " 1   TRACKHANDEDNESS       14996 non-null  object \n",
      " 2   DISTANCE              14996 non-null  int64  \n",
      " 3   TIER                  14996 non-null  object \n",
      " 4   MAJOREVENT            14996 non-null  float64\n",
      " 5   GROUND                14996 non-null  float64\n",
      " 6   GOINGSTICK            14996 non-null  float64\n",
      " 7   NAME                  14996 non-null  object \n",
      " 8   CLOTHNUMBER           14996 non-null  int64  \n",
      " 9   WEIGHTVALUE           14996 non-null  int64  \n",
      " 10  RACECRITERIARACETYPE  14996 non-null  object \n",
      " 11  ENTRYNAME             14996 non-null  object \n",
      " 12  CHAMPIONSHIPTYPE      14996 non-null  object \n",
      " 13  FULLNAME              14996 non-null  object \n",
      " 14  TOP1                  14996 non-null  int64  \n",
      " 15  TOP3                  14996 non-null  int64  \n",
      " 16  TOP5                  14996 non-null  int64  \n",
      " 17  EdadYears             14996 non-null  float64\n",
      " 18  SEASONS               14996 non-null  object \n",
      " 19  HORARIO               14996 non-null  object \n",
      " 20  FAVORITE              14996 non-null  bool   \n",
      "dtypes: bool(1), float64(4), int64(6), object(10)\n",
      "memory usage: 2.4+ MB\n",
      "None\n"
     ]
    }
   ],
   "source": [
    "dropColumns = [\n",
    "    # Eliminamos las columnas que no necesitamos tras el cálculo de la nueva manga\n",
    "    \"EVAL_BETTINGRATIO\",\n",
    "    \"MIN_BETTINGRATIO\",\n",
    "    \"RACEDATE\",\n",
    "    \"IDMANGA\",\n",
    "    \"DIVISIONSEQUENCE\",\n",
    "\n",
    "    # Dado que el número de nulos es muy elevado, se decide eliminar la columna en vez de completar los nulos\n",
    "    \"WEATHER\",\n",
    "\n",
    "    # Eliminamos las columnas que no nos aportan información\n",
    "    \"BETTINGRATIO\",\n",
    "    \"RACETIME\",\n",
    "    \"DATEOFBIRTH\",\n",
    "]\n",
    "dfResults.drop(dropColumns, axis=1, inplace=True)\n",
    "print(dfResults.info())"
   ],
   "metadata": {
    "collapsed": false
   }
  },
  {
   "cell_type": "markdown",
   "source": [
    "### Dummies\n",
    "Generamos Campos Dummies para las variables categóricas"
   ],
   "metadata": {
    "collapsed": false
   }
  },
  {
   "cell_type": "code",
   "execution_count": 14,
   "outputs": [
    {
     "data": {
      "text/plain": "      REGION  DISTANCE  TIER  MAJOREVENT    GROUND  GOINGSTICK  \\\n0      SOUTH      2646  -100         1.0  5.188576    7.177653   \n1      SOUTH      2646  -100         1.0  5.188576    7.177653   \n2      SOUTH      2646  -100         1.0  5.188576    7.177653   \n3      SOUTH      2646  -100         1.0  5.188576    7.177653   \n4      SOUTH      2646  -100         1.0  5.188576    7.177653   \n...      ...       ...   ...         ...       ...         ...   \n64928  NORTH      1100  -100         0.0  4.000000    7.000000   \n64929  NORTH      1100  -100         0.0  4.000000    7.000000   \n64930  NORTH      1100  -100         0.0  4.000000    7.000000   \n64931  NORTH      1636  -100         0.0  3.000000    7.200000   \n64932  NORTH      1636  -100         0.0  3.000000    7.200000   \n\n                         NAME  CLOTHNUMBER  WEIGHTVALUE          ENTRYNAME  \\\n0          Sonny Liston (IRE)           12          128       Tom Marquand   \n1        Grand Alliance (IRE)            5          128     Daniel Tudhope   \n2           Desert Crown (GB)            2          128  Richard Kingscote   \n3             Hoo Ya Mal (GB)            6          128      David Probert   \n4        Grand Alliance (IRE)            5          128     Daniel Tudhope   \n...                       ...          ...          ...                ...   \n64928            Murbih (IRE)           10          126         Cam Hardie   \n64929        James Watt (IRE)            1          142        Ryan Sexton   \n64930       Melody King (IRE)            5          135      Harrison Shaw   \n64931  Liberation Point (IRE)            1          140   Frederick Larson   \n64932        Reputation (IRE)            2          133     James Sullivan   \n\n       ... EdadYears FAVORITE  TrackHandedness_Left-Handed  \\\n0      ...  3.344867    False                            1   \n1      ...  3.180592    False                            1   \n2      ...  3.259992     True                            1   \n3      ...  3.136786    False                            1   \n4      ...  3.180592    False                            1   \n...    ...       ...      ...                          ...   \n64928  ...  3.331025    False                            0   \n64929  ...  6.411171    False                            0   \n64930  ...  5.389931    False                            0   \n64931  ...  5.444746     True                            0   \n64932  ...  9.343526    False                            0   \n\n       TrackHandedness_Right-Handed  RaceCriteria_JUMP  Seasons_Spring  \\\n0                                 0                  0               1   \n1                                 0                  0               1   \n2                                 0                  0               1   \n3                                 0                  0               1   \n4                                 0                  0               1   \n...                             ...                ...             ...   \n64928                             1                  0               0   \n64929                             1                  0               0   \n64930                             1                  0               0   \n64931                             1                  0               0   \n64932                             1                  0               0   \n\n       Seasons_Summer  Seasons_Winter  Schedule_Midday  Schedule_Night  \n0                   0               0                0               0  \n1                   0               0                0               0  \n2                   0               0                0               0  \n3                   0               0                0               0  \n4                   0               0                0               0  \n...               ...             ...              ...             ...  \n64928               1               0                0               0  \n64929               1               0                0               0  \n64930               1               0                0               0  \n64931               1               0                0               0  \n64932               1               0                0               0  \n\n[14996 rows x 25 columns]",
      "text/html": "<div>\n<style scoped>\n    .dataframe tbody tr th:only-of-type {\n        vertical-align: middle;\n    }\n\n    .dataframe tbody tr th {\n        vertical-align: top;\n    }\n\n    .dataframe thead th {\n        text-align: right;\n    }\n</style>\n<table border=\"1\" class=\"dataframe\">\n  <thead>\n    <tr style=\"text-align: right;\">\n      <th></th>\n      <th>REGION</th>\n      <th>DISTANCE</th>\n      <th>TIER</th>\n      <th>MAJOREVENT</th>\n      <th>GROUND</th>\n      <th>GOINGSTICK</th>\n      <th>NAME</th>\n      <th>CLOTHNUMBER</th>\n      <th>WEIGHTVALUE</th>\n      <th>ENTRYNAME</th>\n      <th>...</th>\n      <th>EdadYears</th>\n      <th>FAVORITE</th>\n      <th>TrackHandedness_Left-Handed</th>\n      <th>TrackHandedness_Right-Handed</th>\n      <th>RaceCriteria_JUMP</th>\n      <th>Seasons_Spring</th>\n      <th>Seasons_Summer</th>\n      <th>Seasons_Winter</th>\n      <th>Schedule_Midday</th>\n      <th>Schedule_Night</th>\n    </tr>\n  </thead>\n  <tbody>\n    <tr>\n      <th>0</th>\n      <td>SOUTH</td>\n      <td>2646</td>\n      <td>-100</td>\n      <td>1.0</td>\n      <td>5.188576</td>\n      <td>7.177653</td>\n      <td>Sonny Liston (IRE)</td>\n      <td>12</td>\n      <td>128</td>\n      <td>Tom Marquand</td>\n      <td>...</td>\n      <td>3.344867</td>\n      <td>False</td>\n      <td>1</td>\n      <td>0</td>\n      <td>0</td>\n      <td>1</td>\n      <td>0</td>\n      <td>0</td>\n      <td>0</td>\n      <td>0</td>\n    </tr>\n    <tr>\n      <th>1</th>\n      <td>SOUTH</td>\n      <td>2646</td>\n      <td>-100</td>\n      <td>1.0</td>\n      <td>5.188576</td>\n      <td>7.177653</td>\n      <td>Grand Alliance (IRE)</td>\n      <td>5</td>\n      <td>128</td>\n      <td>Daniel Tudhope</td>\n      <td>...</td>\n      <td>3.180592</td>\n      <td>False</td>\n      <td>1</td>\n      <td>0</td>\n      <td>0</td>\n      <td>1</td>\n      <td>0</td>\n      <td>0</td>\n      <td>0</td>\n      <td>0</td>\n    </tr>\n    <tr>\n      <th>2</th>\n      <td>SOUTH</td>\n      <td>2646</td>\n      <td>-100</td>\n      <td>1.0</td>\n      <td>5.188576</td>\n      <td>7.177653</td>\n      <td>Desert Crown (GB)</td>\n      <td>2</td>\n      <td>128</td>\n      <td>Richard Kingscote</td>\n      <td>...</td>\n      <td>3.259992</td>\n      <td>True</td>\n      <td>1</td>\n      <td>0</td>\n      <td>0</td>\n      <td>1</td>\n      <td>0</td>\n      <td>0</td>\n      <td>0</td>\n      <td>0</td>\n    </tr>\n    <tr>\n      <th>3</th>\n      <td>SOUTH</td>\n      <td>2646</td>\n      <td>-100</td>\n      <td>1.0</td>\n      <td>5.188576</td>\n      <td>7.177653</td>\n      <td>Hoo Ya Mal (GB)</td>\n      <td>6</td>\n      <td>128</td>\n      <td>David Probert</td>\n      <td>...</td>\n      <td>3.136786</td>\n      <td>False</td>\n      <td>1</td>\n      <td>0</td>\n      <td>0</td>\n      <td>1</td>\n      <td>0</td>\n      <td>0</td>\n      <td>0</td>\n      <td>0</td>\n    </tr>\n    <tr>\n      <th>4</th>\n      <td>SOUTH</td>\n      <td>2646</td>\n      <td>-100</td>\n      <td>1.0</td>\n      <td>5.188576</td>\n      <td>7.177653</td>\n      <td>Grand Alliance (IRE)</td>\n      <td>5</td>\n      <td>128</td>\n      <td>Daniel Tudhope</td>\n      <td>...</td>\n      <td>3.180592</td>\n      <td>False</td>\n      <td>1</td>\n      <td>0</td>\n      <td>0</td>\n      <td>1</td>\n      <td>0</td>\n      <td>0</td>\n      <td>0</td>\n      <td>0</td>\n    </tr>\n    <tr>\n      <th>...</th>\n      <td>...</td>\n      <td>...</td>\n      <td>...</td>\n      <td>...</td>\n      <td>...</td>\n      <td>...</td>\n      <td>...</td>\n      <td>...</td>\n      <td>...</td>\n      <td>...</td>\n      <td>...</td>\n      <td>...</td>\n      <td>...</td>\n      <td>...</td>\n      <td>...</td>\n      <td>...</td>\n      <td>...</td>\n      <td>...</td>\n      <td>...</td>\n      <td>...</td>\n      <td>...</td>\n    </tr>\n    <tr>\n      <th>64928</th>\n      <td>NORTH</td>\n      <td>1100</td>\n      <td>-100</td>\n      <td>0.0</td>\n      <td>4.000000</td>\n      <td>7.000000</td>\n      <td>Murbih (IRE)</td>\n      <td>10</td>\n      <td>126</td>\n      <td>Cam Hardie</td>\n      <td>...</td>\n      <td>3.331025</td>\n      <td>False</td>\n      <td>0</td>\n      <td>1</td>\n      <td>0</td>\n      <td>0</td>\n      <td>1</td>\n      <td>0</td>\n      <td>0</td>\n      <td>0</td>\n    </tr>\n    <tr>\n      <th>64929</th>\n      <td>NORTH</td>\n      <td>1100</td>\n      <td>-100</td>\n      <td>0.0</td>\n      <td>4.000000</td>\n      <td>7.000000</td>\n      <td>James Watt (IRE)</td>\n      <td>1</td>\n      <td>142</td>\n      <td>Ryan Sexton</td>\n      <td>...</td>\n      <td>6.411171</td>\n      <td>False</td>\n      <td>0</td>\n      <td>1</td>\n      <td>0</td>\n      <td>0</td>\n      <td>1</td>\n      <td>0</td>\n      <td>0</td>\n      <td>0</td>\n    </tr>\n    <tr>\n      <th>64930</th>\n      <td>NORTH</td>\n      <td>1100</td>\n      <td>-100</td>\n      <td>0.0</td>\n      <td>4.000000</td>\n      <td>7.000000</td>\n      <td>Melody King (IRE)</td>\n      <td>5</td>\n      <td>135</td>\n      <td>Harrison Shaw</td>\n      <td>...</td>\n      <td>5.389931</td>\n      <td>False</td>\n      <td>0</td>\n      <td>1</td>\n      <td>0</td>\n      <td>0</td>\n      <td>1</td>\n      <td>0</td>\n      <td>0</td>\n      <td>0</td>\n    </tr>\n    <tr>\n      <th>64931</th>\n      <td>NORTH</td>\n      <td>1636</td>\n      <td>-100</td>\n      <td>0.0</td>\n      <td>3.000000</td>\n      <td>7.200000</td>\n      <td>Liberation Point (IRE)</td>\n      <td>1</td>\n      <td>140</td>\n      <td>Frederick Larson</td>\n      <td>...</td>\n      <td>5.444746</td>\n      <td>True</td>\n      <td>0</td>\n      <td>1</td>\n      <td>0</td>\n      <td>0</td>\n      <td>1</td>\n      <td>0</td>\n      <td>0</td>\n      <td>0</td>\n    </tr>\n    <tr>\n      <th>64932</th>\n      <td>NORTH</td>\n      <td>1636</td>\n      <td>-100</td>\n      <td>0.0</td>\n      <td>3.000000</td>\n      <td>7.200000</td>\n      <td>Reputation (IRE)</td>\n      <td>2</td>\n      <td>133</td>\n      <td>James Sullivan</td>\n      <td>...</td>\n      <td>9.343526</td>\n      <td>False</td>\n      <td>0</td>\n      <td>1</td>\n      <td>0</td>\n      <td>0</td>\n      <td>1</td>\n      <td>0</td>\n      <td>0</td>\n      <td>0</td>\n    </tr>\n  </tbody>\n</table>\n<p>14996 rows × 25 columns</p>\n</div>"
     },
     "execution_count": 14,
     "metadata": {},
     "output_type": "execute_result"
    }
   ],
   "source": [
    "dummiesColumns = [\"TRACKHANDEDNESS\", \"RACECRITERIARACETYPE\", \"SEASONS\", \"HORARIO\"]\n",
    "dummiesColumnsNames = [\"TrackHandedness\", \"RaceCriteria\", \"Seasons\", \"Schedule\"]\n",
    "dummies = pd.get_dummies(dfResults[dummiesColumns], dummiesColumnsNames, drop_first=True)\n",
    "dfResults = pd.concat([dfResults, dummies], axis=1)\n",
    "dfResults.drop(dummiesColumns, axis=1, inplace=True)\n",
    "dfResults"
   ],
   "metadata": {
    "collapsed": false
   }
  },
  {
   "cell_type": "markdown",
   "source": [
    "Comprobamos que los valores objetivo solo tienen dos valores 1 o 0"
   ],
   "metadata": {
    "collapsed": false
   }
  },
  {
   "cell_type": "code",
   "execution_count": 15,
   "outputs": [
    {
     "data": {
      "text/plain": "0    13284\n1     1712\nName: TOP1, dtype: int64"
     },
     "execution_count": 15,
     "metadata": {},
     "output_type": "execute_result"
    }
   ],
   "source": [
    "dfResults[\"TOP1\"].value_counts()"
   ],
   "metadata": {
    "collapsed": false
   }
  },
  {
   "cell_type": "code",
   "execution_count": 16,
   "outputs": [
    {
     "data": {
      "text/plain": "0    9092\n1    5904\nName: TOP3, dtype: int64"
     },
     "execution_count": 16,
     "metadata": {},
     "output_type": "execute_result"
    }
   ],
   "source": [
    "dfResults[\"TOP3\"].value_counts()"
   ],
   "metadata": {
    "collapsed": false
   }
  },
  {
   "cell_type": "code",
   "execution_count": 17,
   "outputs": [
    {
     "data": {
      "text/plain": "1    9141\n0    5855\nName: TOP5, dtype: int64"
     },
     "execution_count": 17,
     "metadata": {},
     "output_type": "execute_result"
    }
   ],
   "source": [
    "dfResults[\"TOP5\"].value_counts()"
   ],
   "metadata": {
    "collapsed": false
   }
  },
  {
   "cell_type": "markdown",
   "source": [
    "Renombramos las columnas para un mejor entendimiento"
   ],
   "metadata": {
    "collapsed": false
   }
  },
  {
   "cell_type": "code",
   "execution_count": 18,
   "outputs": [
    {
     "name": "stdout",
     "output_type": "stream",
     "text": [
      "<class 'pandas.core.frame.DataFrame'>\n",
      "Int64Index: 14996 entries, 0 to 64932\n",
      "Data columns (total 25 columns):\n",
      " #   Column                        Non-Null Count  Dtype  \n",
      "---  ------                        --------------  -----  \n",
      " 0   Region                        14996 non-null  object \n",
      " 1   Distance                      14996 non-null  int64  \n",
      " 2   Category                      14996 non-null  object \n",
      " 3   MajorEvent                    14996 non-null  float64\n",
      " 4   GroundCondition               14996 non-null  float64\n",
      " 5   Stick                         14996 non-null  float64\n",
      " 6   HorseName                     14996 non-null  object \n",
      " 7   StartingStall                 14996 non-null  int64  \n",
      " 8   Weight                        14996 non-null  int64  \n",
      " 9   JockeyName                    14996 non-null  object \n",
      " 10  ChampionshipType              14996 non-null  object \n",
      " 11  OwnerName                     14996 non-null  object \n",
      " 12  TOP1                          14996 non-null  int64  \n",
      " 13  TOP3                          14996 non-null  int64  \n",
      " 14  TOP5                          14996 non-null  int64  \n",
      " 15  EdadYears                     14996 non-null  float64\n",
      " 16  FAVORITE                      14996 non-null  bool   \n",
      " 17  TrackHandedness_Left-Handed   14996 non-null  uint8  \n",
      " 18  TrackHandedness_Right-Handed  14996 non-null  uint8  \n",
      " 19  RaceCriteria_JUMP             14996 non-null  uint8  \n",
      " 20  Seasons_Spring                14996 non-null  uint8  \n",
      " 21  Seasons_Summer                14996 non-null  uint8  \n",
      " 22  Seasons_Winter                14996 non-null  uint8  \n",
      " 23  Schedule_Midday               14996 non-null  uint8  \n",
      " 24  Schedule_Night                14996 non-null  uint8  \n",
      "dtypes: bool(1), float64(4), int64(6), object(6), uint8(8)\n",
      "memory usage: 2.1+ MB\n"
     ]
    }
   ],
   "source": [
    "dfResults.rename(columns={'REGION': 'Region',\n",
    "                   'DISTANCE': 'Distance',\n",
    "                   'TIER': 'Category',\n",
    "                   'MAJOREVENT': 'MajorEvent',\n",
    "                   'GROUND': 'GroundCondition',\n",
    "                   'GOINGSTICK': 'Stick',\n",
    "                   'NAME': 'HorseName',\n",
    "                   'CLOTHNUMBER': 'StartingStall',\n",
    "                   'WEIGHTVALUE': 'Weight',\n",
    "                   'ENTRYNAME': 'JockeyName',\n",
    "                   'CHAMPIONSHIPTYPE': 'ChampionshipType',\n",
    "                   'FULLNAME': 'OwnerName'}, inplace=True)\n",
    "dfResults.info()"
   ],
   "metadata": {
    "collapsed": false
   }
  },
  {
   "cell_type": "markdown",
   "source": [
    "## Guardar el dataset"
   ],
   "metadata": {
    "collapsed": false
   }
  },
  {
   "cell_type": "code",
   "execution_count": 19,
   "outputs": [],
   "source": [
    "pd.DataFrame.to_csv(dfResults, \"../data/winning_horse_limpieza.csv\", index=False)"
   ],
   "metadata": {
    "collapsed": false
   }
  },
  {
   "cell_type": "markdown",
   "source": [],
   "metadata": {
    "collapsed": false
   }
  }
 ],
 "metadata": {
  "kernelspec": {
   "display_name": "Python 3",
   "language": "python",
   "name": "python3"
  },
  "language_info": {
   "codemirror_mode": {
    "name": "ipython",
    "version": 2
   },
   "file_extension": ".py",
   "mimetype": "text/x-python",
   "name": "python",
   "nbconvert_exporter": "python",
   "pygments_lexer": "ipython2",
   "version": "2.7.6"
  }
 },
 "nbformat": 4,
 "nbformat_minor": 0
}
