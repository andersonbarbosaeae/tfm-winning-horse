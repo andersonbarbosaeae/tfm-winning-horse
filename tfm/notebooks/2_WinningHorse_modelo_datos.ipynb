{
 "cells": [
  {
   "cell_type": "markdown",
   "metadata": {
    "collapsed": false
   },
   "source": [
    "# WINNING HORSE - Modelo de datos"
   ]
  },
  {
   "cell_type": "code",
   "execution_count": null,
   "metadata": {
    "collapsed": true
   },
   "outputs": [],
   "source": [
    "# Lectura de información\n",
    "import pandas as pd\n",
    "import numpy as np\n",
    "import matplotlib.pyplot as plt\n",
    "\n",
    "# Otros\n",
    "import itertools\n",
    "import matplotlib.mlab as mlab\n",
    "import seaborn as sns\n",
    "\n",
    "# DataScience\n",
    "import joblib\n",
    "from sklearn import preprocessing\n",
    "from sklearn.metrics import confusion_matrix\n",
    "from sklearn import svm\n",
    "from sklearn.model_selection import train_test_split\n",
    "from sklearn.naive_bayes import GaussianNB #Solo para numéricas\n",
    "from sklearn.metrics import classification_report\n",
    "from sklearn.multiclass import OneVsRestClassifier\n"
   ]
  },
  {
   "cell_type": "markdown",
   "metadata": {
    "collapsed": false
   },
   "source": [
    "## DataSet"
   ]
  },
  {
   "cell_type": "code",
   "execution_count": 7,
   "metadata": {
    "collapsed": false
   },
   "outputs": [
    {
     "name": "stdout",
     "output_type": "stream",
     "text": [
      "<class 'pandas.core.frame.DataFrame'>\n",
      "RangeIndex: 14996 entries, 0 to 14995\n",
      "Data columns (total 25 columns):\n",
      " #   Column                        Non-Null Count  Dtype  \n",
      "---  ------                        --------------  -----  \n",
      " 0   Region                        14996 non-null  object \n",
      " 1   Distance                      14996 non-null  int64  \n",
      " 2   Category                      14996 non-null  object \n",
      " 3   MajorEvent                    14996 non-null  float64\n",
      " 4   GroundCondition               14996 non-null  float64\n",
      " 5   Stick                         14996 non-null  float64\n",
      " 6   HorseName                     14996 non-null  object \n",
      " 7   StartingStall                 14996 non-null  int64  \n",
      " 8   Weight                        14996 non-null  int64  \n",
      " 9   JockeyName                    14996 non-null  object \n",
      " 10  ChampionshipType              14996 non-null  object \n",
      " 11  OwnerName                     14996 non-null  object \n",
      " 12  TOP1                          14996 non-null  int64  \n",
      " 13  TOP3                          14996 non-null  int64  \n",
      " 14  TOP5                          14996 non-null  int64  \n",
      " 15  EdadYears                     14996 non-null  float64\n",
      " 16  FAVORITE                      14996 non-null  bool   \n",
      " 17  TrackHandedness_Left-Handed   14996 non-null  int64  \n",
      " 18  TrackHandedness_Right-Handed  14996 non-null  int64  \n",
      " 19  RaceCriteria_JUMP             14996 non-null  int64  \n",
      " 20  Seasons_Spring                14996 non-null  int64  \n",
      " 21  Seasons_Summer                14996 non-null  int64  \n",
      " 22  Seasons_Winter                14996 non-null  int64  \n",
      " 23  Schedule_Midday               14996 non-null  int64  \n",
      " 24  Schedule_Night                14996 non-null  int64  \n",
      "dtypes: bool(1), float64(4), int64(14), object(6)\n",
      "memory usage: 2.8+ MB\n"
     ]
    }
   ],
   "source": [
    "df = pd.read_csv(\"../data/results/winning_horse_limpieza.csv\");\n",
    "df.info()"
   ]
  },
  {
   "cell_type": "code",
   "execution_count": 9,
   "metadata": {},
   "outputs": [
    {
     "name": "stdout",
     "output_type": "stream",
     "text": [
      "  Region  Distance Category  MajorEvent  GroundCondition     Stick  \\\n",
      "0  SOUTH      2646     -100         1.0         5.188576  7.177653   \n",
      "1  SOUTH      2646     -100         1.0         5.188576  7.177653   \n",
      "2  SOUTH      2646     -100         1.0         5.188576  7.177653   \n",
      "3  SOUTH      2646     -100         1.0         5.188576  7.177653   \n",
      "4  SOUTH      2646     -100         1.0         5.188576  7.177653   \n",
      "5  SOUTH      2646     -100         1.0         5.188576  7.177653   \n",
      "6  SOUTH      2646     -100         1.0         5.188576  7.177653   \n",
      "7  SOUTH      2646     -100         1.0         5.188576  7.177653   \n",
      "8  SOUTH      2646     -100         1.0         5.188576  7.177653   \n",
      "9  SOUTH      2646     -100         1.0         5.188576  7.177653   \n",
      "\n",
      "               HorseName  StartingStall  Weight         JockeyName  ...  \\\n",
      "0     Sonny Liston (IRE)             12     128       Tom Marquand  ...   \n",
      "1   Grand Alliance (IRE)              5     128     Daniel Tudhope  ...   \n",
      "2      Desert Crown (GB)              2     128  Richard Kingscote  ...   \n",
      "3        Hoo Ya Mal (GB)              6     128      David Probert  ...   \n",
      "4   Grand Alliance (IRE)              5     128     Daniel Tudhope  ...   \n",
      "5        El Habeeb (IRE)              3     128          John Egan  ...   \n",
      "6     Walk of Stars (GB)             15     128        James Doyle  ...   \n",
      "7    Nations Pride (IRE)              9     128      William Buick  ...   \n",
      "8           Nahanni (GB)              8     128         Adam Kirby  ...   \n",
      "9  West Wind Blows (IRE)             17     128      Jack Mitchell  ...   \n",
      "\n",
      "  EdadYears FAVORITE  TrackHandedness_Left-Handed  \\\n",
      "0  3.344867    False                            1   \n",
      "1  3.180592    False                            1   \n",
      "2  3.259992     True                            1   \n",
      "3  3.136786    False                            1   \n",
      "4  3.180592    False                            1   \n",
      "5  3.202496    False                            1   \n",
      "6  3.186068    False                            1   \n",
      "7  3.103931    False                            1   \n",
      "8  3.325701    False                            1   \n",
      "9  3.161427    False                            1   \n",
      "\n",
      "   TrackHandedness_Right-Handed  RaceCriteria_JUMP  Seasons_Spring  \\\n",
      "0                             0                  0               1   \n",
      "1                             0                  0               1   \n",
      "2                             0                  0               1   \n",
      "3                             0                  0               1   \n",
      "4                             0                  0               1   \n",
      "5                             0                  0               1   \n",
      "6                             0                  0               1   \n",
      "7                             0                  0               1   \n",
      "8                             0                  0               1   \n",
      "9                             0                  0               1   \n",
      "\n",
      "   Seasons_Summer  Seasons_Winter  Schedule_Midday  Schedule_Night  \n",
      "0               0               0                0               0  \n",
      "1               0               0                0               0  \n",
      "2               0               0                0               0  \n",
      "3               0               0                0               0  \n",
      "4               0               0                0               0  \n",
      "5               0               0                0               0  \n",
      "6               0               0                0               0  \n",
      "7               0               0                0               0  \n",
      "8               0               0                0               0  \n",
      "9               0               0                0               0  \n",
      "\n",
      "[10 rows x 25 columns]\n"
     ]
    }
   ],
   "source": [
    "print(df.head(10));"
   ]
  },
  {
   "cell_type": "code",
   "execution_count": 14,
   "metadata": {},
   "outputs": [
    {
     "data": {
      "text/plain": [
       "-100                        13011\n",
       "4                            1385\n",
       "Local Restrictions Apply      600\n",
       "Name: Category, dtype: int64"
      ]
     },
     "execution_count": 14,
     "metadata": {},
     "output_type": "execute_result"
    }
   ],
   "source": [
    "df[\"Category\"].value_counts()"
   ]
  },
  {
   "cell_type": "code",
   "execution_count": 15,
   "metadata": {},
   "outputs": [
    {
     "data": {
      "image/png": "[encoded data removed]",
      "text/plain": [
       "<Figure size 640x480 with 1 Axes>"
      ]
     },
     "metadata": {},
     "output_type": "display_data"
    }
   ],
   "source": [
    "plt.hist(df[\"Category\"], bins=20, label=\"Category\")\n",
    "plt.show()"
   ]
  },
  {
   "cell_type": "markdown",
   "metadata": {
    "collapsed": false
   },
   "source": [
    "### Correlaciones"
   ]
  },
  {
   "cell_type": "code",
   "execution_count": null,
   "metadata": {
    "collapsed": false
   },
   "outputs": [],
   "source": [
    "corr = df.corr(numeric_only=True)\n",
    "\n",
    "# Pintemos las correlaciones\n",
    "plt.figure(figsize=(70, 50))\n",
    "sns.heatmap(corr, annot=True)\n",
    "plt.title(\"Correlation Matrix\")"
   ]
  },
  {
   "cell_type": "markdown",
   "metadata": {
    "collapsed": false
   },
   "source": [
    "## FASE DE ENTRENAMIENTO"
   ]
  },
  {
   "cell_type": "code",
   "execution_count": null,
   "metadata": {
    "collapsed": false
   },
   "outputs": [],
   "source": [
    "#Naive Bayes Categorico necesita codificar todas las variables categóricas en Dummies\n",
    "#Escoger entre df_Flat y df_Jump\n",
    "muestra = pd.get_dummies(df)\n",
    "\n",
    "#Eliminamos todos los dataframes utilizados hasta ahora para liberar espacio\n",
    "#del (df, df_Flat, df_Jump, dummies)\n",
    "\n",
    "#Extraemos las variables dependientes y las independientes\n",
    "X = muestra.drop([\"TOP1\", \"TOP3\", \"TOP5\"], axis = 1)\n",
    "y_top1 = muestra[\"TOP1\"]\n",
    "y_top3 = muestra[\"TOP3\"]\n",
    "y_top5 = muestra[\"TOP5\"]\n",
    "\n",
    "y_multi = muestra[[\"TOP1\",\"TOP3\",\"TOP5\"]]\n",
    "\n",
    "#Eliminamos el dataframe original para ahorrar espacio\n",
    "del (muestra)"
   ]
  },
  {
   "cell_type": "markdown",
   "metadata": {
    "collapsed": false
   },
   "source": [
    "Separación del dataframe en Train y Test (80/20 manteniendo distribución)"
   ]
  },
  {
   "cell_type": "code",
   "execution_count": null,
   "metadata": {
    "collapsed": false
   },
   "outputs": [],
   "source": [
    "X_train, X_test, y_train, y_test = train_test_split(X, y_top1, test_size=0.2, random_state=0, stratify=y_top1)"
   ]
  },
  {
   "cell_type": "markdown",
   "metadata": {
    "collapsed": false
   },
   "source": [
    "Generación de un modelo Bayesiano"
   ]
  },
  {
   "cell_type": "code",
   "execution_count": null,
   "metadata": {
    "collapsed": false
   },
   "outputs": [],
   "source": [
    "Gnb=GaussianNB()"
   ]
  },
  {
   "cell_type": "markdown",
   "metadata": {
    "collapsed": false
   },
   "source": [
    "Entrenamiento del modelo"
   ]
  },
  {
   "cell_type": "code",
   "execution_count": null,
   "metadata": {
    "collapsed": false
   },
   "outputs": [],
   "source": [
    "Gnb.fit(X_train, y_train)"
   ]
  },
  {
   "cell_type": "markdown",
   "metadata": {
    "collapsed": false
   },
   "source": [
    "Guardamos el modelo"
   ]
  },
  {
   "cell_type": "code",
   "execution_count": null,
   "metadata": {
    "collapsed": false
   },
   "outputs": [],
   "source": [
    "joblib.dump(Gnb, '../models/Gnb.pkl')"
   ]
  },
  {
   "cell_type": "code",
   "execution_count": null,
   "metadata": {
    "collapsed": false
   },
   "outputs": [],
   "source": [
    "Gnb = joblib.load('../models/Gnb.pkl')\n",
    "Gnb.score(X_test, y_test)"
   ]
  },
  {
   "cell_type": "markdown",
   "metadata": {
    "collapsed": false
   },
   "source": [
    "## FASE DE EVALUACIÓN"
   ]
  },
  {
   "cell_type": "markdown",
   "metadata": {
    "collapsed": false
   },
   "source": [
    "### Evaluación Clase única (depuración)"
   ]
  },
  {
   "cell_type": "code",
   "execution_count": null,
   "metadata": {
    "collapsed": false
   },
   "outputs": [],
   "source": [
    "y_pred=Gnb.predict(X_test)\n",
    "print(classification_report(y_test,y_pred))"
   ]
  },
  {
   "cell_type": "markdown",
   "metadata": {
    "collapsed": false
   },
   "source": [
    "### Evaluación Multiclase"
   ]
  },
  {
   "cell_type": "code",
   "execution_count": null,
   "metadata": {
    "collapsed": false
   },
   "outputs": [],
   "source": [
    "X_train, X_test, y_train, y_test = train_test_split(X, y_multi, test_size=0.2, random_state=0, stratify=y_multi)\n",
    "ovr_clf=OneVsRestClassifier(GaussianNB()).fit(X_train,y_train)\n",
    "ovr_clf.predict_proba(X_test)\n",
    "y_pred_multi = ovr_clf.predict(X_test)\n",
    "print(classification_report(y_test,y_pred_multi))"
   ]
  }
 ],
 "metadata": {
  "kernelspec": {
   "display_name": "Python 3",
   "language": "python",
   "name": "python3"
  },
  "language_info": {
   "codemirror_mode": {
    "name": "ipython",
    "version": 3
   },
   "file_extension": ".py",
   "mimetype": "text/x-python",
   "name": "python",
   "nbconvert_exporter": "python",
   "pygments_lexer": "ipython3",
   "version": "3.10.8"
  }
 },
 "nbformat": 4,
 "nbformat_minor": 0
}
